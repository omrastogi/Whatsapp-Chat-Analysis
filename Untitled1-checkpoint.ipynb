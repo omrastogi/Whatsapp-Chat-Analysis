{
 "cells": [
  {
   "cell_type": "code",
   "execution_count": 137,
   "metadata": {},
   "outputs": [],
   "source": [
    "import re\n",
    "import pandas as pd\n",
    "import matplotlib.pyplot as plt\n",
    "import emoji\n",
    "import numpy as np"
   ]
  },
  {
   "cell_type": "code",
   "execution_count": 156,
   "metadata": {},
   "outputs": [],
   "source": [
    "fl = \"WhatsApp Chat with Om Jss\"\n",
    "fl = \"acro_chat\"\n",
    "fl = \"chat\"\n",
    "file = open(r'./'+fl+'.txt',mode='r',encoding=\"utf8\")\n",
    "data = file.read()\n",
    "file.close()"
   ]
  },
  {
   "cell_type": "code",
   "execution_count": 157,
   "metadata": {},
   "outputs": [],
   "source": [
    "pattern = re.compile('\\d+:\\d+\\s+[PM|AM|am|pm]+\\s+-\\s+([a-zA-Z0-9]+\\s?[a-zA-Z0-9]+\\s?[a-zA-Z0-9]+\\s?):\\s+')\n",
    "messengers = re.findall(pattern,data)"
   ]
  },
  {
   "cell_type": "code",
   "execution_count": 158,
   "metadata": {
    "scrolled": true
   },
   "outputs": [
    {
     "name": "stdout",
     "output_type": "stream",
     "text": [
      "['JSS ACRO', 'Singh\\n22/01/2018, ']\n"
     ]
    },
    {
     "data": {
      "text/plain": [
       "21485"
      ]
     },
     "execution_count": 158,
     "metadata": {},
     "output_type": "execute_result"
    }
   ],
   "source": [
    "count_messages={}\n",
    "for each in messengers:\n",
    "    if each in count_messages.keys():\n",
    "        count_messages[each]+=1\n",
    "    else:\n",
    "        count_messages[each]=1\n",
    "messages_split = pattern.split(data)\n",
    "print (messages_split[9:11])\n",
    "len(messages_split)"
   ]
  },
  {
   "cell_type": "code",
   "execution_count": 159,
   "metadata": {},
   "outputs": [
    {
     "name": "stdout",
     "output_type": "stream",
     "text": [
      "10742\n",
      "10742\n"
     ]
    }
   ],
   "source": [
    "sep_msgs=[]\n",
    "for each in count_messages.keys():\n",
    "    for msg in range(len(messages_split)):\n",
    "        if each == messages_split[msg]:\n",
    "            sep_msgs.append(messages_split[msg+1])   #obtaining the message mentioned after sender along with datesprint(len(sep_msgs))   \n",
    "print (len(sep_msgs))\n",
    "\n",
    "cleaned_sep_msg = []\n",
    "for each in sep_msgs:\n",
    "    if '\\n' in each:\n",
    "        cleaned_sep_msg.append(each.split('\\n'))\n",
    "\n",
    "        \n",
    "my_msg = []\n",
    "for each in cleaned_sep_msg:\n",
    "    my_msg.append(each[0])\n",
    "# print(len(my_msg))\n",
    "print (len(cleaned_sep_msg))"
   ]
  },
  {
   "cell_type": "code",
   "execution_count": 160,
   "metadata": {},
   "outputs": [
    {
     "name": "stdout",
     "output_type": "stream",
     "text": [
      "10743\n"
     ]
    },
    {
     "data": {
      "text/html": [
       "<div>\n",
       "<style scoped>\n",
       "    .dataframe tbody tr th:only-of-type {\n",
       "        vertical-align: middle;\n",
       "    }\n",
       "\n",
       "    .dataframe tbody tr th {\n",
       "        vertical-align: top;\n",
       "    }\n",
       "\n",
       "    .dataframe thead th {\n",
       "        text-align: right;\n",
       "    }\n",
       "</style>\n",
       "<table border=\"1\" class=\"dataframe\">\n",
       "  <thead>\n",
       "    <tr style=\"text-align: right;\">\n",
       "      <th></th>\n",
       "      <th>JSS ACRO</th>\n",
       "      <th>Omega</th>\n",
       "    </tr>\n",
       "  </thead>\n",
       "  <tbody>\n",
       "    <tr>\n",
       "      <th>0</th>\n",
       "      <td>College gya tha</td>\n",
       "      <td>Truth</td>\n",
       "    </tr>\n",
       "    <tr>\n",
       "      <th>1</th>\n",
       "      <td>Abhishek bhul gaya</td>\n",
       "      <td>Kon hai bhai</td>\n",
       "    </tr>\n",
       "    <tr>\n",
       "      <th>2</th>\n",
       "      <td>Singh</td>\n",
       "      <td>Konsa saini ya singh</td>\n",
       "    </tr>\n",
       "    <tr>\n",
       "      <th>3</th>\n",
       "      <td>51</td>\n",
       "      <td>Aree bhai bhai</td>\n",
       "    </tr>\n",
       "    <tr>\n",
       "      <th>4</th>\n",
       "      <td>😎</td>\n",
       "      <td>Kaise hai aap</td>\n",
       "    </tr>\n",
       "    <tr>\n",
       "      <th>5</th>\n",
       "      <td>Gaya tha college aaj</td>\n",
       "      <td>Nopes</td>\n",
       "    </tr>\n",
       "    <tr>\n",
       "      <th>6</th>\n",
       "      <td>Kab jayega</td>\n",
       "      <td>Kal jaaunga</td>\n",
       "    </tr>\n",
       "    <tr>\n",
       "      <th>7</th>\n",
       "      <td>And wht abt registration</td>\n",
       "      <td>Aaj mood ni tha</td>\n",
       "    </tr>\n",
       "    <tr>\n",
       "      <th>8</th>\n",
       "      <td>Kitne baje</td>\n",
       "      <td>Dekhta hoon</td>\n",
       "    </tr>\n",
       "    <tr>\n",
       "      <th>9</th>\n",
       "      <td>Aur online registration to nahi hai</td>\n",
       "      <td>Nahi pta</td>\n",
       "    </tr>\n",
       "    <tr>\n",
       "      <th>10</th>\n",
       "      <td>Okkkk</td>\n",
       "      <td>Apna dp kyon hataa diya bhai</td>\n",
       "    </tr>\n",
       "    <tr>\n",
       "      <th>11</th>\n",
       "      <td>Abe Kya karna rakh ke</td>\n",
       "      <td>Koi pt nhi ri thi kya dp dekh kr 😂</td>\n",
       "    </tr>\n",
       "    <tr>\n",
       "      <th>12</th>\n",
       "      <td>Aur Kya Kiya holidays me</td>\n",
       "      <td>Wahi chutiyapa jo tu krta hai</td>\n",
       "    </tr>\n",
       "    <tr>\n",
       "      <th>13</th>\n",
       "      <td>🤣</td>\n",
       "      <td>Pokemon Go</td>\n",
       "    </tr>\n",
       "    <tr>\n",
       "      <th>14</th>\n",
       "      <td>Are Bhai bhai</td>\n",
       "      <td>😂</td>\n",
       "    </tr>\n",
       "    <tr>\n",
       "      <th>15</th>\n",
       "      <td>Sahi me</td>\n",
       "      <td>Yeah TheAlpha1998th</td>\n",
       "    </tr>\n",
       "    <tr>\n",
       "      <th>16</th>\n",
       "      <td>Spoofer hai kya</td>\n",
       "      <td>Tera konsa hai</td>\n",
       "    </tr>\n",
       "    <tr>\n",
       "      <th>17</th>\n",
       "      <td>Konsa level pe hai</td>\n",
       "      <td>Nopr</td>\n",
       "    </tr>\n",
       "    <tr>\n",
       "      <th>18</th>\n",
       "      <td>Very fast</td>\n",
       "      <td>21 pe hoon abhi</td>\n",
       "    </tr>\n",
       "    <tr>\n",
       "      <th>19</th>\n",
       "      <td>Mine is 31</td>\n",
       "      <td>Aree bhai bhai bhai</td>\n",
       "    </tr>\n",
       "  </tbody>\n",
       "</table>\n",
       "</div>"
      ],
      "text/plain": [
       "                               JSS ACRO                               Omega\n",
       "0                       College gya tha                               Truth\n",
       "1                    Abhishek bhul gaya                        Kon hai bhai\n",
       "2                                 Singh                Konsa saini ya singh\n",
       "3                                    51                      Aree bhai bhai\n",
       "4                                     😎                       Kaise hai aap\n",
       "5                  Gaya tha college aaj                               Nopes\n",
       "6                            Kab jayega                         Kal jaaunga\n",
       "7              And wht abt registration                     Aaj mood ni tha\n",
       "8                            Kitne baje                         Dekhta hoon\n",
       "9   Aur online registration to nahi hai                            Nahi pta\n",
       "10                                Okkkk        Apna dp kyon hataa diya bhai\n",
       "11                Abe Kya karna rakh ke  Koi pt nhi ri thi kya dp dekh kr 😂\n",
       "12             Aur Kya Kiya holidays me       Wahi chutiyapa jo tu krta hai\n",
       "13                                    🤣                          Pokemon Go\n",
       "14                        Are Bhai bhai                                   😂\n",
       "15                              Sahi me                 Yeah TheAlpha1998th\n",
       "16                      Spoofer hai kya                      Tera konsa hai\n",
       "17                   Konsa level pe hai                                Nopr\n",
       "18                            Very fast                     21 pe hoon abhi\n",
       "19                           Mine is 31                 Aree bhai bhai bhai"
      ]
     },
     "execution_count": 160,
     "metadata": {},
     "output_type": "execute_result"
    }
   ],
   "source": [
    "for each in count_messages.keys():\n",
    "    if messages_split[-2] == each:\n",
    "        my_msg.insert(count_messages[each]-1,messages_split[-1])\n",
    "\n",
    "print (len(my_msg))\n",
    "name = list(count_messages.keys())\n",
    "\n",
    "who_sent_what = []\n",
    "prev = 0\n",
    "for each in count_messages.keys():\n",
    "    num = count_messages[each]\n",
    "    \n",
    "    nex = num+prev\n",
    "    messages = my_msg[prev:nex]\n",
    "    who_sent_what.append(messages)\n",
    "    prev = nex\n",
    "who_sent_what\n",
    "my_df=pd.DataFrame(who_sent_what)\n",
    "my_df = my_df.transpose()\n",
    "my_df.columns = [list(count_messages.keys())[0],list(count_messages.keys())[1]]\n",
    "my_df.head(20)"
   ]
  },
  {
   "cell_type": "code",
   "execution_count": 163,
   "metadata": {},
   "outputs": [],
   "source": [
    "x=[y for y in np.unique(messengers)]\n",
    "# x = [ 'Om Jss','Acroshek']"
   ]
  },
  {
   "cell_type": "code",
   "execution_count": 164,
   "metadata": {},
   "outputs": [
    {
     "name": "stdout",
     "output_type": "stream",
     "text": [
      "Omega deleted 264 messages\n",
      "JSS ACRO deleted 89 messages\n"
     ]
    }
   ],
   "source": [
    "x1_deleted = my_df[x[1]].value_counts()['You deleted this message']\n",
    "x0_deleted = my_df[x[0]].value_counts()['This message was deleted']\n",
    "print(\"{} deleted \".format(x[1]) + str(x1_deleted) + ' messages')\n",
    "print(\"{} deleted \".format(x[0]) + str(x0_deleted) + ' messages')"
   ]
  },
  {
   "cell_type": "code",
   "execution_count": 165,
   "metadata": {},
   "outputs": [
    {
     "ename": "TypeError",
     "evalue": "'Series' object is not callable",
     "output_type": "error",
     "traceback": [
      "\u001b[1;31m---------------------------------------------------------------------------\u001b[0m",
      "\u001b[1;31mTypeError\u001b[0m                                 Traceback (most recent call last)",
      "\u001b[1;32m<ipython-input-165-9a33aa671ea2>\u001b[0m in \u001b[0;36m<module>\u001b[1;34m\u001b[0m\n\u001b[1;32m----> 1\u001b[1;33m \u001b[0mp0_deleted\u001b[0m \u001b[1;33m=\u001b[0m \u001b[0mmy_df\u001b[0m\u001b[1;33m[\u001b[0m\u001b[0mname\u001b[0m\u001b[1;33m[\u001b[0m\u001b[1;36m0\u001b[0m\u001b[1;33m]\u001b[0m\u001b[1;33m]\u001b[0m\u001b[1;33m.\u001b[0m\u001b[0mvalue_counts\u001b[0m\u001b[1;33m(\u001b[0m\u001b[1;33m)\u001b[0m\u001b[1;33m(\u001b[0m\u001b[1;33m[\u001b[0m\u001b[1;34m'You deleted this message'\u001b[0m\u001b[1;33m]\u001b[0m \u001b[1;32mor\u001b[0m \u001b[1;33m[\u001b[0m\u001b[1;34m'This message was deleted'\u001b[0m\u001b[1;33m]\u001b[0m\u001b[1;33m)\u001b[0m\u001b[1;33m\u001b[0m\u001b[1;33m\u001b[0m\u001b[0m\n\u001b[0m\u001b[0;32m      2\u001b[0m \u001b[0mp1_deleted\u001b[0m \u001b[1;33m=\u001b[0m \u001b[0mmy_df\u001b[0m\u001b[1;33m[\u001b[0m\u001b[0mname\u001b[0m\u001b[1;33m[\u001b[0m\u001b[1;36m1\u001b[0m\u001b[1;33m]\u001b[0m\u001b[1;33m]\u001b[0m\u001b[1;33m.\u001b[0m\u001b[0mvalue_counts\u001b[0m\u001b[1;33m(\u001b[0m\u001b[1;33m)\u001b[0m\u001b[1;33m[\u001b[0m\u001b[1;34m'This message was deleted'\u001b[0m\u001b[1;33m]\u001b[0m\u001b[1;33m\u001b[0m\u001b[1;33m\u001b[0m\u001b[0m\n\u001b[0;32m      3\u001b[0m \u001b[0mprint\u001b[0m\u001b[1;33m(\u001b[0m \u001b[0mname\u001b[0m\u001b[1;33m[\u001b[0m\u001b[1;36m0\u001b[0m\u001b[1;33m]\u001b[0m\u001b[1;33m+\u001b[0m\u001b[1;34m' deleted '\u001b[0m\u001b[1;33m+\u001b[0m \u001b[0mstr\u001b[0m\u001b[1;33m(\u001b[0m\u001b[0mp0_deleted\u001b[0m\u001b[1;33m)\u001b[0m \u001b[1;33m+\u001b[0m \u001b[1;34m' messages'\u001b[0m\u001b[1;33m)\u001b[0m\u001b[1;33m\u001b[0m\u001b[1;33m\u001b[0m\u001b[0m\n\u001b[0;32m      4\u001b[0m \u001b[0mprint\u001b[0m\u001b[1;33m(\u001b[0m \u001b[0mname\u001b[0m\u001b[1;33m[\u001b[0m\u001b[1;36m1\u001b[0m\u001b[1;33m]\u001b[0m\u001b[1;33m+\u001b[0m\u001b[1;34m' deleted '\u001b[0m\u001b[1;33m+\u001b[0m \u001b[0mstr\u001b[0m\u001b[1;33m(\u001b[0m\u001b[0mp1_deleted\u001b[0m\u001b[1;33m)\u001b[0m \u001b[1;33m+\u001b[0m\u001b[1;34m' messages'\u001b[0m\u001b[1;33m)\u001b[0m\u001b[1;33m\u001b[0m\u001b[1;33m\u001b[0m\u001b[0m\n",
      "\u001b[1;31mTypeError\u001b[0m: 'Series' object is not callable"
     ]
    }
   ],
   "source": [
    "p0_deleted = my_df[name[0]].value_counts()(['You deleted this message'] or ['This message was deleted'])\n",
    "p1_deleted = my_df[name[1]].value_counts()['This message was deleted']\n",
    "print( name[0]+' deleted '+ str(p0_deleted) + ' messages')\n",
    "print( name[1]+' deleted '+ str(p1_deleted) +' messages')"
   ]
  },
  {
   "cell_type": "code",
   "execution_count": 166,
   "metadata": {},
   "outputs": [
    {
     "name": "stdout",
     "output_type": "stream",
     "text": [
      "JSS ACRO\n",
      "🖕    4238\n",
      "🏻    2239\n",
      "🤣     923\n",
      "😂     231\n",
      "❤     150\n",
      "Name: 0, dtype: int64\n",
      "Omega\n",
      "🖕    36804\n",
      "🏻    36596\n",
      "🤣     2267\n",
      "😂      758\n",
      "😭      106\n",
      "Name: 0, dtype: int64\n",
      "JSS ACRO sent 594 media files\n",
      "Omega sent 523 media files\n"
     ]
    }
   ],
   "source": [
    "def extract_emojis(columnname):\n",
    "    emojis=[]\n",
    "    for string in my_df[columnname]:\n",
    "        my_str = str(string)\n",
    "        for each in my_str:\n",
    "            if each in emoji.UNICODE_EMOJI:\n",
    "                emojis.append(each)\n",
    "    return emojis\n",
    "\n",
    "emoji_dict={}\n",
    "for keys in count_messages.keys():\n",
    "    print(keys)\n",
    "    emoji_dict[keys] = extract_emojis(keys)\n",
    "    emoji_df = pd.DataFrame(emoji_dict[keys])\n",
    "    print(emoji_df[0].value_counts()[:5])\n",
    "\n",
    "p0_media = my_df[name[0]].value_counts()['<Media omitted>']\n",
    "p1_media = my_df[name[1]].value_counts()['<Media omitted>']\n",
    "print(name[0] +' sent ' + str(p0_media) + ' media files')\n",
    "print(name[1] +' sent ' + str(p1_media) + ' media files')"
   ]
  },
  {
   "cell_type": "code",
   "execution_count": 169,
   "metadata": {},
   "outputs": [
    {
     "data": {
      "image/png": "[encoded data removed]",
      "text/plain": [
       "<Figure size 432x288 with 1 Axes>"
      ]
     },
     "metadata": {
      "needs_background": "light"
     },
     "output_type": "display_data"
    }
   ],
   "source": [
    "hour_pattern = '(\\d+):\\d+\\s+(am|pm|AM|PM)+\\s+-\\s+\\w+\\s?\\w+?\\s?\\w+\\s?\\w+:\\s'\n",
    "hours = re.findall(hour_pattern,data)\n",
    "hrs=[]\n",
    "for i in hours:\n",
    "    if(i[1]=='pm'or i[1]=='PM'):\n",
    "        if(int(i[0])>=1 and int(i[0])<=11):\n",
    "            hrs.append(str(int(i[0])+12))\n",
    "        else:\n",
    "            hrs.append(i[0])\n",
    "    else:\n",
    "        if(int(i[0])>=12):\n",
    "            hrs.append('00')\n",
    "        else:\n",
    "            if(int(i[0])>=1 and int(i[0])<=9):\n",
    "                hrs.append('0'+i[0])\n",
    "            else:\n",
    "                hrs.append(i[0])\n",
    "\n",
    "time = pd.DataFrame({'hours':hrs})\n",
    "busy_hours = time['hours'].value_counts()\n",
    "busy_hours.sort_index(inplace=True)\n",
    "plt.axes([1,1,1,0.98])\n",
    "plt.grid(True)\n",
    "busy_hours.plot.bar()\n",
    "plt.xlabel('Hour')\n",
    "plt.ylabel('No. of Messages')\n",
    "plt.xticks(rotation=0)\n",
    "plt.show()"
   ]
  },
  {
   "cell_type": "code",
   "execution_count": null,
   "metadata": {},
   "outputs": [],
   "source": []
  },
  {
   "cell_type": "code",
   "execution_count": null,
   "metadata": {},
   "outputs": [],
   "source": []
  }
 ],
 "metadata": {
  "kernelspec": {
   "display_name": "Python 3",
   "language": "python",
   "name": "python3"
  },
  "language_info": {
   "codemirror_mode": {
    "name": "ipython",
    "version": 3
   },
   "file_extension": ".py",
   "mimetype": "text/x-python",
   "name": "python",
   "nbconvert_exporter": "python",
   "pygments_lexer": "ipython3",
   "version": "3.7.7"
  }
 },
 "nbformat": 4,
 "nbformat_minor": 4
}
